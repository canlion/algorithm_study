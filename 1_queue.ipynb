{
 "cells": [
  {
   "cell_type": "markdown",
   "metadata": {},
   "source": [
    "### Queue\n",
    "\n",
    "first-in, first-out: 먼저 들어온 데이터를 먼저 출력"
   ]
  },
  {
   "cell_type": "code",
   "execution_count": 10,
   "metadata": {},
   "outputs": [
    {
     "name": "stdout",
     "output_type": "stream",
     "text": [
      "a 1 ho "
     ]
    }
   ],
   "source": [
    "from queue import Queue\n",
    "\n",
    "\n",
    "q = Queue()  # fifo queue\n",
    "for data in ['a', 1, 'ho']:\n",
    "    q.put(data)\n",
    "    \n",
    "for _ in range(q.qsize()):\n",
    "    print(q.get(), end=' ')"
   ]
  },
  {
   "cell_type": "markdown",
   "metadata": {
    "tags": []
   },
   "source": [
    "### LifoQueue\n",
    "\n",
    "last-in, first-out: 위의 일반적인 큐와 반대순서로 출력"
   ]
  },
  {
   "cell_type": "code",
   "execution_count": 11,
   "metadata": {},
   "outputs": [
    {
     "name": "stdout",
     "output_type": "stream",
     "text": [
      "ho 1 a "
     ]
    }
   ],
   "source": [
    "from queue import LifoQueue\n",
    "\n",
    "\n",
    "lifo_q = LifoQueue()\n",
    "for data in ['a', 1, 'ho']:\n",
    "    lifo_q.put(data)\n",
    "    \n",
    "for _ in range(lifo_q.qsize()):\n",
    "    print(lifo_q.get(), end=' ')"
   ]
  },
  {
   "cell_type": "markdown",
   "metadata": {},
   "source": [
    "### PriorityQueue\n",
    "\n",
    "데이터의 추가 순서 관계없이 우선순위가 높은 데이터부터 출력\n",
    "* 큐에 (우선순위:(int,float), 데이터) 형태로 데이터를 추가\n",
    "* 우선순위 \"값\"이 가장 작은 데이터부터 출력"
   ]
  },
  {
   "cell_type": "code",
   "execution_count": 16,
   "metadata": {},
   "outputs": [
    {
     "name": "stdout",
     "output_type": "stream",
     "text": [
      "(-1.3, 'ho')\n",
      "(3, 'a')\n",
      "(10.5, 1)\n"
     ]
    }
   ],
   "source": [
    "from queue import PriorityQueue\n",
    "\n",
    "\n",
    "prior_q = PriorityQueue()\n",
    "for priority, data in zip([3, 10.5, -1.3], ['a', 1, 'ho']):\n",
    "    prior_q.put((priority, data))\n",
    "    \n",
    "for _ in range(prior_q.qsize()):\n",
    "    print(prior_q.get())"
   ]
  },
  {
   "cell_type": "markdown",
   "metadata": {},
   "source": [
    "### list를 이용한 queue"
   ]
  },
  {
   "cell_type": "code",
   "execution_count": 23,
   "metadata": {},
   "outputs": [
    {
     "name": "stdout",
     "output_type": "stream",
     "text": [
      "a 1 ho \n",
      "queue empty: None returned\n",
      "None\n"
     ]
    }
   ],
   "source": [
    "def enqueue(data):\n",
    "    q.append(data)\n",
    "    \n",
    "    \n",
    "def dequeue():\n",
    "    # return q.pop(0)\n",
    "    try:\n",
    "        data = q[0]\n",
    "        del q[0]\n",
    "        return data\n",
    "    except IndexError:\n",
    "        print('queue empty: None returned')\n",
    "\n",
    "\n",
    "q = []\n",
    "for data in ['a', 1, 'ho']:\n",
    "    enqueue(data)\n",
    "    \n",
    "for _ in range(len(q)):\n",
    "    print(dequeue(), end=' ')\n",
    "\n",
    "print()\n",
    "print(dequeue())"
   ]
  }
 ],
 "metadata": {
  "kernelspec": {
   "display_name": "Python 3",
   "language": "python",
   "name": "python3"
  },
  "language_info": {
   "codemirror_mode": {
    "name": "ipython",
    "version": 3
   },
   "file_extension": ".py",
   "mimetype": "text/x-python",
   "name": "python",
   "nbconvert_exporter": "python",
   "pygments_lexer": "ipython3",
   "version": "3.8.5"
  }
 },
 "nbformat": 4,
 "nbformat_minor": 4
}

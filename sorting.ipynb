{
 "cells": [
  {
   "cell_type": "markdown",
   "metadata": {},
   "source": [
    "## 정렬 - 오름차순"
   ]
  },
  {
   "cell_type": "code",
   "execution_count": 1,
   "metadata": {},
   "outputs": [],
   "source": [
    "from random import randint"
   ]
  },
  {
   "cell_type": "code",
   "execution_count": 2,
   "metadata": {},
   "outputs": [],
   "source": [
    "nums = [randint(0, 10000) for _ in range(10000)]\n",
    "sorted_nums = sorted(nums)"
   ]
  },
  {
   "cell_type": "markdown",
   "metadata": {
    "tags": []
   },
   "source": [
    "### 삽입정렬"
   ]
  },
  {
   "cell_type": "code",
   "execution_count": 20,
   "metadata": {},
   "outputs": [],
   "source": [
    "def insertion_sort(nums):\n",
    "    for i in range(1, len(nums)):\n",
    "        val = nums[i]\n",
    "        j = i-1\n",
    "        while nums[j] > val and j >= 0:\n",
    "            # 원소를 삽입할 위치를 찾을때까지 원소들을 한칸씩 뒤로 밀기\n",
    "            nums[j+1] = nums[j]\n",
    "            j -= 1\n",
    "        nums[j+1] = val\n",
    "    return nums"
   ]
  },
  {
   "cell_type": "code",
   "execution_count": 21,
   "metadata": {},
   "outputs": [
    {
     "name": "stdout",
     "output_type": "stream",
     "text": [
      "True\n",
      "True\n",
      "True\n",
      "True\n",
      "True\n",
      "True\n",
      "True\n",
      "True\n",
      "True\n",
      "2.76 s ± 88.3 ms per loop (mean ± std. dev. of 3 runs, 3 loops each)\n"
     ]
    }
   ],
   "source": [
    "%%timeit -n 3 -r 3\n",
    "nums_ = nums.copy()\n",
    "sorted_insertion = insertion_sort(nums_)\n",
    "# print(sorted_insertion)\n",
    "print(sorted_nums == sorted_insertion)"
   ]
  },
  {
   "cell_type": "markdown",
   "metadata": {},
   "source": [
    "### 선택정렬"
   ]
  },
  {
   "cell_type": "code",
   "execution_count": 22,
   "metadata": {},
   "outputs": [],
   "source": [
    "def selection_sort(nums):\n",
    "    for i in range(len(nums)-1):\n",
    "        min_idx = i\n",
    "        for j in range(i+1, len(nums)):\n",
    "            if nums[min_idx] > nums[j]:\n",
    "                min_idx = j\n",
    "        nums[i], nums[min_idx] = nums[min_idx], nums[i]\n",
    "    return nums"
   ]
  },
  {
   "cell_type": "code",
   "execution_count": 23,
   "metadata": {},
   "outputs": [
    {
     "name": "stdout",
     "output_type": "stream",
     "text": [
      "True\n",
      "True\n",
      "True\n",
      "True\n",
      "True\n",
      "True\n",
      "True\n",
      "True\n",
      "True\n",
      "2.03 s ± 25.8 ms per loop (mean ± std. dev. of 3 runs, 3 loops each)\n"
     ]
    }
   ],
   "source": [
    "%%timeit -n 3 -r 3\n",
    "nums_ = nums.copy()\n",
    "sorted_selection = selection_sort(nums_)\n",
    "print(sorted_nums == sorted_selection)"
   ]
  },
  {
   "cell_type": "markdown",
   "metadata": {},
   "source": [
    "### 머지정렬"
   ]
  },
  {
   "cell_type": "code",
   "execution_count": 24,
   "metadata": {},
   "outputs": [],
   "source": [
    "def merge_sort(nums):\n",
    "    # 길이가 1인 경우 바로 반환\n",
    "    if len(nums) <= 1:\n",
    "        return nums\n",
    "    \n",
    "    n = len(nums)\n",
    "    # 반으로 분할\n",
    "    part_0, part_1 = nums[:n//2], nums[n//2:]\n",
    "    # 재귀로 분할된 파트를 정렬\n",
    "    part_0_sorted, part_1_sorted = merge_sort(part_0), merge_sort(part_1)\n",
    "    \n",
    "    merged = []\n",
    "    # 정렬된 파트들의 원소들을 비교하고 정렬하여 하나로 병합함\n",
    "    while part_0_sorted and part_1_sorted:\n",
    "        if part_0_sorted[0] < part_1_sorted[0]:\n",
    "            merged.append(part_0_sorted.pop(0))\n",
    "        else:\n",
    "            merged.append(part_1_sorted.pop(0))\n",
    "    \n",
    "    # 한 파트가 먼저 비워진다면 다른 파트 원소들을 순서를 유지한채로 병합 리스트에 추가\n",
    "    merged.extend(part_0_sorted+part_1_sorted)\n",
    "    \n",
    "    return merged"
   ]
  },
  {
   "cell_type": "code",
   "execution_count": 25,
   "metadata": {},
   "outputs": [
    {
     "name": "stdout",
     "output_type": "stream",
     "text": [
      "True\n",
      "True\n",
      "True\n",
      "True\n",
      "True\n",
      "True\n",
      "True\n",
      "True\n",
      "True\n",
      "34.6 ms ± 1.62 ms per loop (mean ± std. dev. of 3 runs, 3 loops each)\n"
     ]
    }
   ],
   "source": [
    "%%timeit -n 3 -r 3\n",
    "nums_ = nums.copy()\n",
    "sorted_merge = merge_sort(nums_)\n",
    "print(sorted_nums == sorted_merge)"
   ]
  },
  {
   "cell_type": "markdown",
   "metadata": {},
   "source": [
    "### 버블 정렬"
   ]
  },
  {
   "cell_type": "code",
   "execution_count": 26,
   "metadata": {},
   "outputs": [],
   "source": [
    "def bubble_sort(nums):\n",
    "    for i in range(len(nums)-1):\n",
    "        for j in range(len(nums)-1-i):\n",
    "            if nums[j] > nums[j+1]:\n",
    "                nums[j], nums[j+1] = nums[j+1], nums[j]\n",
    "    return nums"
   ]
  },
  {
   "cell_type": "code",
   "execution_count": 27,
   "metadata": {},
   "outputs": [
    {
     "name": "stdout",
     "output_type": "stream",
     "text": [
      "True\n",
      "True\n",
      "True\n",
      "True\n",
      "True\n",
      "True\n",
      "True\n",
      "True\n",
      "True\n",
      "6.36 s ± 32.3 ms per loop (mean ± std. dev. of 3 runs, 3 loops each)\n"
     ]
    }
   ],
   "source": [
    "%%timeit -n 3 -r 3\n",
    "nums_ = nums.copy()\n",
    "sorted_bubble = bubble_sort(nums_)\n",
    "print(sorted_nums == sorted_bubble)"
   ]
  },
  {
   "cell_type": "markdown",
   "metadata": {},
   "source": [
    "### 퀵 소트"
   ]
  },
  {
   "cell_type": "code",
   "execution_count": 28,
   "metadata": {},
   "outputs": [],
   "source": [
    "def quick_sort(nums, l_bound=None, r_bound=None):\n",
    "    l_bound = 0 if l_bound is None else l_bound\n",
    "    r_bound = len(nums)-1 if r_bound is None else r_bound\n",
    "    l = r = l_bound\n",
    "    pivot = nums[r_bound]\n",
    "    while True:\n",
    "        while nums[l] < pivot and r < r_bound:\n",
    "            l += 1\n",
    "            r += 1\n",
    "        while nums[r] >= pivot and r < r_bound:\n",
    "            r += 1\n",
    "\n",
    "        if l != r:\n",
    "            nums[l], nums[r] = nums[r], nums[l]\n",
    "        if r == r_bound:\n",
    "            break\n",
    "    if (l-1) - l_bound >= 1:\n",
    "        quick_sort(nums, l_bound, l-1)\n",
    "    if r_bound - (l+1) >= 1:\n",
    "        quick_sort(nums, l+1, r_bound)"
   ]
  },
  {
   "cell_type": "code",
   "execution_count": 29,
   "metadata": {},
   "outputs": [
    {
     "name": "stdout",
     "output_type": "stream",
     "text": [
      "True\n",
      "True\n",
      "True\n",
      "True\n",
      "True\n",
      "True\n",
      "True\n",
      "True\n",
      "True\n",
      "26.7 ms ± 388 µs per loop (mean ± std. dev. of 3 runs, 3 loops each)\n"
     ]
    }
   ],
   "source": [
    "%%timeit -n 3 -r 3\n",
    "nums_ = nums.copy()\n",
    "quick_sort(nums_)\n",
    "print(sorted_nums == nums_)"
   ]
  },
  {
   "cell_type": "markdown",
   "metadata": {},
   "source": [
    "### 힙 정렬"
   ]
  },
  {
   "cell_type": "markdown",
   "metadata": {},
   "source": [
    "#### 새로운 힙을 생성하는 경우"
   ]
  },
  {
   "cell_type": "code",
   "execution_count": 30,
   "metadata": {},
   "outputs": [],
   "source": [
    "def heap_insert(heap, elem):\n",
    "    if not heap:\n",
    "        heap.append(elem)\n",
    "        return\n",
    "    \n",
    "    heap.append(elem)\n",
    "    idx = len(heap)-1\n",
    "    p_idx = (idx-1) // 2\n",
    "    while p_idx >= 0 and heap[p_idx] > heap[idx]:\n",
    "        heap[p_idx], heap[idx] = heap[idx], heap[p_idx]\n",
    "        idx = p_idx\n",
    "        p_idx = (idx-1) // 2\n",
    "        \n",
    "def heap_delete(heap):\n",
    "    if heap:\n",
    "        root_val = heap.pop(0)\n",
    "    else:\n",
    "        root_val = None\n",
    "        \n",
    "    if heap:\n",
    "        heap.insert(0, heap.pop())\n",
    "\n",
    "        idx = 0\n",
    "        while True:\n",
    "            c_l_idx = 2 * idx + 1\n",
    "            c_r_idx = c_l_idx + 1\n",
    "\n",
    "            if c_l_idx < len(heap) and c_r_idx < len(heap):\n",
    "                c_idx = c_l_idx if heap[c_l_idx] <= heap[c_r_idx] else c_r_idx\n",
    "            elif c_l_idx < len(heap) and c_r_idx >= len(heap):\n",
    "                c_idx = c_l_idx\n",
    "            else:\n",
    "                break\n",
    "\n",
    "            if heap[idx] > heap[c_idx]:\n",
    "                heap[idx], heap[c_idx] = heap[c_idx], heap[idx]\n",
    "                idx = c_idx\n",
    "            else:\n",
    "                break\n",
    "    return root_val"
   ]
  },
  {
   "cell_type": "code",
   "execution_count": 31,
   "metadata": {},
   "outputs": [
    {
     "name": "stdout",
     "output_type": "stream",
     "text": [
      "True\n",
      "True\n",
      "True\n",
      "True\n",
      "True\n",
      "True\n",
      "True\n",
      "True\n",
      "True\n",
      "72.1 ms ± 2.78 ms per loop (mean ± std. dev. of 3 runs, 3 loops each)\n"
     ]
    }
   ],
   "source": [
    "%%timeit -n 3 -r 3\n",
    "nums_ = nums.copy()\n",
    "heap = []\n",
    "for n in nums_:\n",
    "    heap_insert(heap, n)\n",
    "    \n",
    "sorted_heap = [heap_delete(heap) for _ in range(len(nums_))]\n",
    "print(sorted_nums == sorted_heap)"
   ]
  },
  {
   "cell_type": "code",
   "execution_count": 32,
   "metadata": {},
   "outputs": [],
   "source": [
    "def convert_to_max_heap(nums):\n",
    "    n = len(nums) - 1\n",
    "    if n % 2 == 0:\n",
    "        n -= 1\n",
    "    \n",
    "    for c_idx in range(n, 0, -2):\n",
    "        idx = c_idx // 2\n",
    "        while True:\n",
    "            c_l_idx = 2 * idx + 1\n",
    "            c_r_idx = c_l_idx + 1\n",
    "\n",
    "            if c_l_idx < len(nums) and c_r_idx < len(nums):\n",
    "                c_idx = c_l_idx if nums[c_l_idx] >= nums[c_r_idx] else c_r_idx\n",
    "            elif c_l_idx < len(nums) and c_r_idx >= len(nums):\n",
    "                c_idx = c_l_idx\n",
    "            else:\n",
    "                break\n",
    "\n",
    "            if nums[idx] < nums[c_idx]:\n",
    "                nums[idx], nums[c_idx] = nums[c_idx], nums[idx]\n",
    "                idx = c_idx\n",
    "            else:\n",
    "                break\n",
    "                \n",
    "def heap_sort(nums):\n",
    "    convert_to_max_heap(nums)\n",
    "    \n",
    "    n = len(nums)\n",
    "    for i in range(n-1, 0, -1):\n",
    "        nums[0], nums[i] = nums[i], nums[0]\n",
    "        idx = 0\n",
    "        while True:\n",
    "            c_l_idx = 2 * idx + 1\n",
    "            c_r_idx = c_l_idx + 1\n",
    "            \n",
    "            if c_l_idx < i and c_r_idx < i:\n",
    "                c_idx = c_l_idx if nums[c_l_idx] >= nums[c_r_idx] else c_r_idx\n",
    "            elif c_l_idx < i and c_r_idx >= i:\n",
    "                c_idx = c_l_idx\n",
    "            else:\n",
    "                break\n",
    "            \n",
    "            if nums[idx] < nums[c_idx]:\n",
    "                nums[idx], nums[c_idx] = nums[c_idx], nums[idx]\n",
    "                idx = c_idx\n",
    "            else:\n",
    "                break"
   ]
  },
  {
   "cell_type": "code",
   "execution_count": 33,
   "metadata": {},
   "outputs": [
    {
     "name": "stdout",
     "output_type": "stream",
     "text": [
      "True\n",
      "True\n",
      "True\n",
      "True\n",
      "True\n",
      "True\n",
      "True\n",
      "True\n",
      "True\n",
      "35.4 ms ± 1.33 ms per loop (mean ± std. dev. of 3 runs, 3 loops each)\n"
     ]
    }
   ],
   "source": [
    "%%timeit -n 3 -r 3\n",
    "nums_ = nums.copy()\n",
    "heap_sort(nums_)\n",
    "print(sorted_nums == nums_)"
   ]
  }
 ],
 "metadata": {
  "kernelspec": {
   "display_name": "Python 3",
   "language": "python",
   "name": "python3"
  },
  "language_info": {
   "codemirror_mode": {
    "name": "ipython",
    "version": 3
   },
   "file_extension": ".py",
   "mimetype": "text/x-python",
   "name": "python",
   "nbconvert_exporter": "python",
   "pygments_lexer": "ipython3",
   "version": "3.8.5"
  }
 },
 "nbformat": 4,
 "nbformat_minor": 4
}
